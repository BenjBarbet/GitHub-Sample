{
    "metadata": {
        "kernelspec": {
            "name": "SQL",
            "display_name": "SQL",
            "language": "sql"
        },
        "language_info": {
            "name": "sql",
            "version": ""
        }
    },
    "nbformat_minor": 2,
    "nbformat": 4,
    "cells": [
        {
            "cell_type": "markdown",
            "source": [
                "# Etat du parc via MEM\r\n",
                "\r\n",
                "## Nombre de pc par build"
            ],
            "metadata": {
                "azdata_cell_guid": "80dddad9-3f3b-422d-b2d3-18067ec75c0e"
            },
            "attachments": {}
        },
        {
            "cell_type": "code",
            "source": [
                "SELECT DISTINCT op.BuildNumber0 AS [Build]\r\n",
                "    ,count(op.BuildNumber0) AS [Numbers of PC]\r\n",
                "FROM v_GS_OPERATING_SYSTEM AS op\r\n",
                "GROUP BY op.BuildNumber0\r\n",
                "ORDER BY op.BuildNumber0"
            ],
            "metadata": {
                "azdata_cell_guid": "adb2b099-de00-477b-8abf-452c8074ce9b",
                "language": "sql"
            },
            "outputs": [
{
    "output_type": "display_data",
    "data": {
        "text/html": "(9 rows affected)"
    },
    "metadata": {}
}, {
    "output_type": "display_data",
    "data": {
        "text/html": "Total execution time: 00:00:00.083"
    },
    "metadata": {}
}, {
    "output_type": "execute_result",
    "metadata": {},
    "execution_count": 1,
    "data": {
        "application/vnd.dataresource+json": {
            "schema": {
                "fields": [
                    {
                        "name": "Build"
                    },
                    {
                        "name": "Numbers of PC"
                    }
                ]
            },
            "data": [
                {
                    "0": "17134",
                    "1": "20"
                },
                {
                    "0": "18363",
                    "1": "112"
                },
                {
                    "0": "19042",
                    "1": "29"
                },
                {
                    "0": "19043",
                    "1": "1"
                },
                {
                    "0": "19044",
                    "1": "1253"
                },
                {
                    "0": "19045",
                    "1": "1237"
                },
                {
                    "0": "20348",
                    "1": "53"
                },
                {
                    "0": "22000",
                    "1": "1"
                },
                {
                    "0": "22621",
                    "1": "5"
                }
            ]
        },
        "text/html": [
            "<table>",
            "<tr><th>Build</th><th>Numbers of PC</th></tr>",
            "<tr><td>17134</td><td>20</td></tr>",
            "<tr><td>18363</td><td>112</td></tr>",
            "<tr><td>19042</td><td>29</td></tr>",
            "<tr><td>19043</td><td>1</td></tr>",
            "<tr><td>19044</td><td>1253</td></tr>",
            "<tr><td>19045</td><td>1237</td></tr>",
            "<tr><td>20348</td><td>53</td></tr>",
            "<tr><td>22000</td><td>1</td></tr>",
            "<tr><td>22621</td><td>5</td></tr>",
            "</table>"
        ]
    }
}
],
            "execution_count": 1
        }
    ]
}