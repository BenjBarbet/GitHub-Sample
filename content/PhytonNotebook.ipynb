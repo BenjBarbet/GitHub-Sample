{
    "metadata": {
        "kernelspec": {
            "name": "python3",
            "display_name": "Python 3 (ipykernel)",
            "language": "python"
        },
        "language_info": {
            "name": "python",
            "version": "3.8.10",
            "mimetype": "text/x-python",
            "codemirror_mode": {
                "name": "ipython",
                "version": 3
            },
            "pygments_lexer": "ipython3",
            "nbconvert_exporter": "python",
            "file_extension": ".py"
        }
    },
    "nbformat_minor": 2,
    "nbformat": 4,
    "cells": [
        {
            "cell_type": "markdown",
            "source": [
                "# Phyton Notebook\r\n",
                "\r\n",
                "## Platform Information"
            ],
            "metadata": {
                "azdata_cell_guid": "e4b7b4fd-b30a-441b-a772-21232739fc5f"
            },
            "attachments": {}
        },
        {
            "cell_type": "code",
            "source": [
                "import os\r\n",
                "import platform\r\n",
                "print ('Phyton version :' + platform.python_version())"
            ],
            "metadata": {
                "azdata_cell_guid": "79497ee8-20bf-4e06-83bc-6b32fa1648b4",
                "language": "python"
            },
            "outputs": [
                {
                    "name": "stdout",
                    "text": "Phyton version :3.8.10\n",
                    "output_type": "stream"
                }
            ],
            "execution_count": 6
        },
        {
            "cell_type": "markdown",
            "source": [
                "## Find Files"
            ],
            "metadata": {
                "azdata_cell_guid": "98271dd4-911a-4a48-956c-dbfc3d1d1e89"
            },
            "attachments": {}
        },
        {
            "cell_type": "code",
            "source": [
                "import fnmatch\r\n",
                "import os\r\n",
                "\r\n",
                "rootpath = '/ADS'\r\n",
                "pattern = '*.json'\r\n",
                "\r\n",
                "for root, dirs, files in os.walk(rootpath):\r\n",
                "    for filename in fnmatch.filter(files,pattern):\r\n",
                "        print (os.path.join(root, filename))"
            ],
            "metadata": {
                "azdata_cell_guid": "c1d1bcbe-d676-4e13-a8e8-2c4432c4847c",
                "language": "python"
            },
            "outputs": [
                {
                    "name": "stdout",
                    "text": "/ADS\\Hands-on-Azure-Data-Studio-master\\.azuredatastudio\\settings.json\n",
                    "output_type": "stream"
                }
            ],
            "execution_count": 8
        }
    ]
}