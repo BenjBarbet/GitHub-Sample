{
    "metadata": {
        "kernelspec": {
            "name": "powershell",
            "display_name": "PowerShell",
            "language": "powershell"
        },
        "language_info": {
            "name": "powershell",
            "codemirror_mode": "shell",
            "mimetype": "text/x-sh",
            "file_extension": ".ps1"
        }
    },
    "nbformat_minor": 2,
    "nbformat": 4,
    "cells": [
        {
            "cell_type": "markdown",
            "source": [
                "# PowerShell Notebook\r\n",
                "\r\n",
                "## Simple Get-ChildItem command line\r\n",
                ""
            ],
            "metadata": {
                "azdata_cell_guid": "815b9046-1704-4bbd-8c66-e64d8c6ff8c5"
            },
            "attachments": {}
        },
        {
            "cell_type": "code",
            "source": [
                "Get-ChildItem C:\\azuredatastudio-phyton"
            ],
            "metadata": {
                "azdata_cell_guid": "353a02e5-8a68-4856-b698-8d544cb91bc6",
                "language": "powershell",
                "tags": [
                    "hide_input"
                ]
            },
            "outputs": [
                {
                    "output_type": "stream",
                    "name": "stdout",
                    "text": "\n\n    R■pertoire■: C:\\azuredatastudio-phyton\n\n\nMode                 LastWriteTime         Length Name                                                                 \n----                 -------------         ------ ----                                                                 \nd-----        08/03/2023     14:04                DLLs                                                                 \nd-----        08/03/2023     14:04                Doc                                                                  \nd-----        08/03/2023     14:04                include                                                              \nd-----        08/03/2023     14:04                Lib                                                                  \nd-----        08/03/2023     14:04                libs                                                                 \nd-----        08/03/2023     14:04                Scripts                                                              \nd-----        08/03/2023     14:04                tcl                                                                  \nd-----        08/03/2023     14:04                Tools                                                                \nd-----        08/03/2023     14:06                wheelhouse                                                           \n-a----        03/05/2021     12:54          32628 LICENSE.txt                                                          \n-a----        03/05/2021     12:55         955561 NEWS.txt                                                             \n-a----        03/05/2021     12:54         101552 python.exe                                                           \n-a----        03/05/2021     12:54          59568 python3.dll                                                          \n-a----        03/05/2021     12:54        4211376 python38.dll                                                         \n-a----        03/05/2021     12:54         100016 pythonw.exe                                                          \n-a----        08/03/2023     14:05             76 requirements.txt                                                     \n-a----        03/05/2021     12:54          96120 vcruntime140.dll                                                     \n-a----        03/05/2021     12:54          36728 vcruntime140_1.dll                                                   \n\n\n"
                }
            ],
            "execution_count": 1
        },
        {
            "cell_type": "markdown",
            "source": [
                "## Test connection sql serveur"
            ],
            "metadata": {
                "azdata_cell_guid": "454d4cfc-9e4a-4f1b-a1a3-d5067f664e1e"
            },
            "attachments": {}
        },
        {
            "cell_type": "code",
            "source": [
                "Test-Connection -ComputerName \"sv-ff-sql-01.formation.forem\" -Count 1"
            ],
            "metadata": {
                "azdata_cell_guid": "34b325d9-3c41-4585-93d5-2f9c51dce106",
                "language": "powershell"
            },
            "outputs": [
                {
                    "output_type": "stream",
                    "name": "stdout",
                    "text": "\nSource        Destination     IPV4Address      IPV6Address                              Bytes    Time(ms) \n------        -----------     -----------      -----------                              -----    -------- \nLAI-474635    sv-ff-sql-01... 10.141.100.105                                            32       16       \n\n\n"
                }
            ],
            "execution_count": 2
        },
        {
            "cell_type": "markdown",
            "source": [
                "## Backup DB car_crash and move bak file"
            ],
            "metadata": {
                "azdata_cell_guid": "56003bd3-8fda-4974-95b7-f1b17ff1856e"
            },
            "attachments": {}
        },
        {
            "cell_type": "code",
            "source": [
                "Invoke-Sqlcmd -Query \"BACKUP DATABASE car_crash TO DISK = 'c:\\temp\\car_crash.bak'\" -ServerInstance \"localhost\\sqlexpress\"\r\n",
                "Copy-Item \"C:\\temp\\car_crash.bak\" -Destination \"C:\\ADS\"\r\n",
                "Remove-Item \"C:\\temp\\car_crash.bak\""
            ],
            "metadata": {
                "azdata_cell_guid": "5040c163-5c6a-4516-8daa-a0b003ce2fa8",
                "language": "powershell"
            },
            "outputs": [
                {
                    "name": "stdout",
                    "text": "",
                    "output_type": "stream"
                }
            ],
            "execution_count": 5
        }
    ]
}