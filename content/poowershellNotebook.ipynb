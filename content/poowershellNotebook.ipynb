{
    "metadata": {
        "kernelspec": {
            "name": "powershell",
            "display_name": "PowerShell",
            "language": "powershell"
        },
        "language_info": {
            "name": "powershell",
            "codemirror_mode": "shell",
            "mimetype": "text/x-sh",
            "file_extension": ".ps1"
        }
    },
    "nbformat_minor": 2,
    "nbformat": 4,
    "cells": [
        {
            "cell_type": "code",
            "source": [
                "Get-ChildItem C:\\azuredatastudio-phyton"
            ],
            "metadata": {
                "azdata_cell_guid": "353a02e5-8a68-4856-b698-8d544cb91bc6",
                "language": "powershell"
            },
            "outputs": [
                {
                    "name": "stdout",
                    "text": "\n\n    R■pertoire■: C:\\azuredatastudio-phyton\n\n\nMode                 LastWriteTime         Length Name                                                                 \n----                 -------------         ------ ----                                                                 \nd-----        08/03/2023     14:04                DLLs                                                                 \nd-----        08/03/2023     14:04                Doc                                                                  \nd-----        08/03/2023     14:04                include                                                              \nd-----        08/03/2023     14:04                Lib                                                                  \nd-----        08/03/2023     14:04                libs                                                                 \nd-----        08/03/2023     14:04                Scripts                                                              \nd-----        08/03/2023     14:04                tcl                                                                  \nd-----        08/03/2023     14:04                Tools                                                                \nd-----        08/03/2023     14:06                wheelhouse                                                           \n-a----        03/05/2021     12:54          32628 LICENSE.txt                                                          \n-a----        03/05/2021     12:55         955561 NEWS.txt                                                             \n-a----        03/05/2021     12:54         101552 python.exe                                                           \n-a----        03/05/2021     12:54          59568 python3.dll                                                          \n-a----        03/05/2021     12:54        4211376 python38.dll                                                         \n-a----        03/05/2021     12:54         100016 pythonw.exe                                                          \n-a----        08/03/2023     14:05             76 requirements.txt                                                     \n-a----        03/05/2021     12:54          96120 vcruntime140.dll                                                     \n-a----        03/05/2021     12:54          36728 vcruntime140_1.dll                                                   \n\n\n",
                    "output_type": "stream"
                }
            ],
            "execution_count": 1
        }
    ]
}